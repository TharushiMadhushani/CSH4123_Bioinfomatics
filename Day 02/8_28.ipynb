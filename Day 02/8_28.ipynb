{
 "cells": [
  {
   "cell_type": "code",
   "execution_count": 1,
   "id": "b29a788d",
   "metadata": {},
   "outputs": [
    {
     "name": "stdout",
     "output_type": "stream",
     "text": [
      "Enter the number:7\n",
      "      *\n",
      "     ***\n",
      "    *****\n",
      "   *******\n",
      "  *********\n",
      " ***********\n",
      "*************\n"
     ]
    }
   ],
   "source": [
    "#print a patterns\n",
    "num=int(input(\"Enter the number:\"))\n",
    "for i in range(1,num+1):\n",
    "    print(\" \"*(num-i)+\"*\"*(2*i-1))"
   ]
  },
  {
   "cell_type": "code",
   "execution_count": 15,
   "id": "8b49683e",
   "metadata": {},
   "outputs": [
    {
     "name": "stdout",
     "output_type": "stream",
     "text": [
      "1 2 3 4 5 6 7 8 9 10   \n",
      "\n",
      "2 4 6 8 10 12 14 16 18 20   \n",
      "\n",
      "3 6 9 12 15 18 21 24 27 30   \n",
      "\n",
      "4 8 12 16 20 24 28 32 36 40   \n",
      "\n",
      "5 10 15 20 25 30 35 40 45 50   \n",
      "\n",
      "6 12 18 24 30 36 42 48 54 60   \n",
      "\n",
      "7 14 21 28 35 42 49 56 63 70   \n",
      "\n",
      "8 16 24 32 40 48 56 64 72 80   \n",
      "\n",
      "9 18 27 36 45 54 63 72 81 90   \n",
      "\n",
      "10 20 30 40 50 60 70 80 90 100   \n",
      "\n"
     ]
    }
   ],
   "source": [
    "#print a multipliation table\n",
    "for i in range(1,11):\n",
    "    for j in range(1,11):\n",
    "        print(i*j,end=' ')\n",
    "    print(\"  \\n\")\n",
    "  "
   ]
  },
  {
   "cell_type": "code",
   "execution_count": 21,
   "id": "d5f87fee",
   "metadata": {},
   "outputs": [
    {
     "name": "stdout",
     "output_type": "stream",
     "text": [
      "Count of A: 4\n",
      "Count of T: 4\n",
      "Count of G: 4\n",
      "Count of C: 3\n"
     ]
    }
   ],
   "source": [
    "#Count the number A T G C nucleotides in this DNA Sequence\n",
    "DNA=\"ATGCGATACGCTTGA\"\n",
    "nucloA='ATGC'\n",
    "\n",
    "countA=0\n",
    "countT=0\n",
    "countG=0\n",
    "countC=0\n",
    "for x in DNA:\n",
    "    if x=='A':\n",
    "        countA=countA+1\n",
    "    elif x=='T':\n",
    "        countT=countT+1\n",
    "    elif x=='G':\n",
    "        countG=countG+1\n",
    "    elif x=='C':\n",
    "        countC=countC+1\n",
    "        \n",
    "\n",
    "print(\"Count of A:\",countA)\n",
    "print(\"Count of T:\",countT)\n",
    "print(\"Count of G:\",countG)\n",
    "print(\"Count of C:\",countC)"
   ]
  },
  {
   "cell_type": "code",
   "execution_count": null,
   "id": "feb2a225",
   "metadata": {},
   "outputs": [],
   "source": []
  }
 ],
 "metadata": {
  "kernelspec": {
   "display_name": "Python 3 (ipykernel)",
   "language": "python",
   "name": "python3"
  },
  "language_info": {
   "codemirror_mode": {
    "name": "ipython",
    "version": 3
   },
   "file_extension": ".py",
   "mimetype": "text/x-python",
   "name": "python",
   "nbconvert_exporter": "python",
   "pygments_lexer": "ipython3",
   "version": "3.9.13"
  }
 },
 "nbformat": 4,
 "nbformat_minor": 5
}
