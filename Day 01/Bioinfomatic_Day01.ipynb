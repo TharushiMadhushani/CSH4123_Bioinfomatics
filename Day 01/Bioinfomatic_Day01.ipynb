{
 "cells": [
  {
   "cell_type": "code",
   "execution_count": 1,
   "id": "caea2c9f",
   "metadata": {},
   "outputs": [
    {
     "name": "stdout",
     "output_type": "stream",
     "text": [
      "result is:  600\n"
     ]
    }
   ],
   "source": [
    "num1=20\n",
    "num2=30\n",
    "m=num1*num2\n",
    "s=num1+num2\n",
    "\n",
    "if m>1000:\n",
    "    print(\"result is: \",s)\n",
    "else:\n",
    "    print(\"result is: \",m)"
   ]
  },
  {
   "cell_type": "code",
   "execution_count": 3,
   "id": "ae082670",
   "metadata": {},
   "outputs": [
    {
     "name": "stdout",
     "output_type": "stream",
     "text": [
      "Number1 : 40\n",
      "Number1 : 30\n",
      "result is:  70\n"
     ]
    }
   ],
   "source": [
    "num1 = int(input(\"Number1 : \"))\n",
    "num2 = int(input(\"Number1 : \"))\n",
    "m=num1*num2\n",
    "s=num1+num2\n",
    "\n",
    "if m>1000:\n",
    "    print(\"result is: \",s)\n",
    "else:\n",
    "    print(\"result is: \",m)"
   ]
  },
  {
   "cell_type": "code",
   "execution_count": 6,
   "id": "13db42d1",
   "metadata": {},
   "outputs": [
    {
     "name": "stdout",
     "output_type": "stream",
     "text": [
      "Number1 : 12\n",
      "Number is even.\n"
     ]
    }
   ],
   "source": [
    "#check the even or odd\n",
    "\n",
    "n1 = int(input(\"Number1 : \"))\n",
    "if n1%2==0:\n",
    "    print(\"Number is even.\")\n",
    "else:\n",
    "    print(\"number is odd.\")\n"
   ]
  },
  {
   "cell_type": "code",
   "execution_count": 25,
   "id": "2b2beaad",
   "metadata": {},
   "outputs": [
    {
     "name": "stdout",
     "output_type": "stream",
     "text": [
      "sum is:  36\n",
      "average is:  4.5\n"
     ]
    }
   ],
   "source": [
    "# find the average of a list of numbers\n",
    "\n",
    "arr=[1,2,3,4,5,6,7,8]\n",
    "#print(\"array is: \")\n",
    "#for x in arr:\n",
    "    #print(x)\n",
    "\n",
    "sum = 0\n",
    "for x in arr:\n",
    "    sum += x\n",
    "avg= sum/len(arr)\n",
    "print(\"sum is: \",sum)\n",
    "print(\"average is: \",avg)\n"
   ]
  },
  {
   "cell_type": "code",
   "execution_count": 33,
   "id": "15d219b7",
   "metadata": {},
   "outputs": [
    {
     "name": "stdout",
     "output_type": "stream",
     "text": [
      "Enter the word: aipouArU\n",
      "count is:  6\n"
     ]
    }
   ],
   "source": [
    "word=str(input(\"Enter the word: \"))\n",
    "count = 0\n",
    "vowel=\"aeiouAEIOU\"\n",
    "\n",
    "for x in word:\n",
    "    for y in vowel:\n",
    "        if x==y:\n",
    "            count +=1\n",
    "    \n",
    "\n",
    "print(\"count is: \",count)"
   ]
  },
  {
   "cell_type": "code",
   "execution_count": 35,
   "id": "8df0fdf5",
   "metadata": {},
   "outputs": [
    {
     "name": "stdout",
     "output_type": "stream",
     "text": [
      "enter celsius value: 32\n",
      "fahrenheit value is:  89.6\n"
     ]
    }
   ],
   "source": [
    "c=int(input(\"enter celsius value: \"))\n",
    "f=(c*9/5)+32\n",
    "print(\"fahrenheit value is: \",f)"
   ]
  },
  {
   "cell_type": "code",
   "execution_count": 37,
   "id": "01de8c18",
   "metadata": {},
   "outputs": [
    {
     "name": "stdout",
     "output_type": "stream",
     "text": [
      "enter the number: 5\n",
      "*\n",
      "**\n",
      "***\n",
      "****\n",
      "*****\n"
     ]
    }
   ],
   "source": [
    "x=int(input(\"enter the number: \"))\n",
    "\n",
    "for i in range (1,x+1):\n",
    "    print(\"*\"*i)\n"
   ]
  },
  {
   "cell_type": "code",
   "execution_count": null,
   "id": "c269b41a",
   "metadata": {},
   "outputs": [],
   "source": []
  }
 ],
 "metadata": {
  "kernelspec": {
   "display_name": "Python 3 (ipykernel)",
   "language": "python",
   "name": "python3"
  },
  "language_info": {
   "codemirror_mode": {
    "name": "ipython",
    "version": 3
   },
   "file_extension": ".py",
   "mimetype": "text/x-python",
   "name": "python",
   "nbconvert_exporter": "python",
   "pygments_lexer": "ipython3",
   "version": "3.9.13"
  }
 },
 "nbformat": 4,
 "nbformat_minor": 5
}
