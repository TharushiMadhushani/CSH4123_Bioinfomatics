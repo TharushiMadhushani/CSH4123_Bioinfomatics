{
 "cells": [
  {
   "cell_type": "code",
   "execution_count": 2,
   "id": "c90bdb8b",
   "metadata": {},
   "outputs": [
    {
     "data": {
      "text/plain": [
       "array([ 0.,  5., 10., 15., 20.])"
      ]
     },
     "execution_count": 2,
     "metadata": {},
     "output_type": "execute_result"
    }
   ],
   "source": [
    "import numpy as np\n",
    "arr=np.linspace(0,20,5)\n",
    "arr"
   ]
  },
  {
   "cell_type": "code",
   "execution_count": 5,
   "id": "a8722e6a",
   "metadata": {},
   "outputs": [
    {
     "data": {
      "text/plain": [
       "array([0., 0., 0., 0., 0.])"
      ]
     },
     "execution_count": 5,
     "metadata": {},
     "output_type": "execute_result"
    }
   ],
   "source": [
    "arr2=np.zeros(5)\n",
    "arr2"
   ]
  },
  {
   "cell_type": "raw",
   "id": "d1978512",
   "metadata": {},
   "source": []
  },
  {
   "cell_type": "code",
   "execution_count": 7,
   "id": "68a5270f",
   "metadata": {},
   "outputs": [
    {
     "data": {
      "text/plain": [
       "array([[1., 1., 1.],\n",
       "       [1., 1., 1.],\n",
       "       [1., 1., 1.]])"
      ]
     },
     "execution_count": 7,
     "metadata": {},
     "output_type": "execute_result"
    }
   ],
   "source": [
    "arr3=np.ones((3,3))\n",
    "arr3"
   ]
  },
  {
   "cell_type": "code",
   "execution_count": 9,
   "id": "5b436619",
   "metadata": {},
   "outputs": [
    {
     "data": {
      "text/plain": [
       "array([[0.36916674, 0.70083062, 0.54038078, 0.80672383],\n",
       "       [0.24535144, 0.54731893, 0.47741411, 0.22295954],\n",
       "       [0.14918256, 0.81239428, 0.36000537, 0.28619432],\n",
       "       [0.41811801, 0.43571159, 0.58647418, 0.44239899]])"
      ]
     },
     "execution_count": 9,
     "metadata": {},
     "output_type": "execute_result"
    }
   ],
   "source": [
    "arr4=np.random.rand(4,4)\n",
    "arr4"
   ]
  },
  {
   "cell_type": "code",
   "execution_count": 13,
   "id": "ed6ff657",
   "metadata": {},
   "outputs": [
    {
     "name": "stdout",
     "output_type": "stream",
     "text": [
      "First element: 1\n",
      "Second element: 2\n"
     ]
    }
   ],
   "source": [
    "arr5=np.array([1,2,3,4,5])\n",
    "arr5\n",
    "\n",
    "print(\"First element:\",arr5[0])\n",
    "print(\"Second element:\",arr5[1])"
   ]
  },
  {
   "cell_type": "code",
   "execution_count": 18,
   "id": "bdf02903",
   "metadata": {},
   "outputs": [
    {
     "name": "stdout",
     "output_type": "stream",
     "text": [
      "[1 2 3]\n",
      "range of elements for 1st to 3rd: 2\n"
     ]
    }
   ],
   "source": [
    "sub_arr=arr5[0:3]\n",
    "print(sub_arr)\n",
    "range_val=max(sub_arr)-min(sub_arr)\n",
    "print(\"range of elements from 1st to 3rd:\",range_val)"
   ]
  },
  {
   "cell_type": "code",
   "execution_count": 20,
   "id": "4480cd39",
   "metadata": {},
   "outputs": [
    {
     "name": "stdout",
     "output_type": "stream",
     "text": [
      "[2 3 4 5]\n",
      "range of elements from 2nd element: 3\n"
     ]
    }
   ],
   "source": [
    "sub_arr2=arr5[1:]\n",
    "print(sub_arr2)\n",
    "range_v=max(sub_arr2)-min(sub_arr2)\n",
    "print(\"range of elements from 2nd element:\",range_v)"
   ]
  },
  {
   "cell_type": "code",
   "execution_count": 21,
   "id": "e5809423",
   "metadata": {},
   "outputs": [
    {
     "name": "stdout",
     "output_type": "stream",
     "text": [
      "[4 5]\n",
      "range of elements from index -2: 4\n"
     ]
    }
   ],
   "source": [
    "sub_arr3=arr5[-2:]\n",
    "print(sub_arr3)\n",
    "range_v=max(sub_arr3)-min(sub_arr)\n",
    "print(\"range of elements from index -2:\",range_v)"
   ]
  },
  {
   "cell_type": "code",
   "execution_count": 23,
   "id": "f8dec780",
   "metadata": {},
   "outputs": [
    {
     "data": {
      "text/plain": [
       "array([[1, 2, 3],\n",
       "       [4, 5, 6]])"
      ]
     },
     "execution_count": 23,
     "metadata": {},
     "output_type": "execute_result"
    }
   ],
   "source": [
    "import numpy as np\n",
    "arr1=[1,2,3]\n",
    "arr2=[4,5,6]\n",
    "\n",
    "arr_2D=np.array([arr1,arr2])\n",
    "arr_2D"
   ]
  },
  {
   "cell_type": "code",
   "execution_count": 31,
   "id": "042d44f0",
   "metadata": {},
   "outputs": [
    {
     "name": "stdout",
     "output_type": "stream",
     "text": [
      "1st row 2nd col element: 2\n",
      "2nd row element: [4 5 6]\n",
      "3rd col element: [3 6]\n",
      "Range of element in 1st row: 2\n"
     ]
    }
   ],
   "source": [
    "print(\"1st row 2nd col element:\",arr_2D[0,1])\n",
    "print(\"2nd row element:\",arr_2D[1])\n",
    "print(\"3rd col element:\",arr_2D[:,2])\n",
    "\n",
    "\n",
    "range_row1=max(arr_2D[0])-min(arr_2D[0])\n",
    "print(\"Range of element in 1st row:\",range_row1)"
   ]
  },
  {
   "cell_type": "code",
   "execution_count": 33,
   "id": "feee4821",
   "metadata": {},
   "outputs": [
    {
     "name": "stdout",
     "output_type": "stream",
     "text": [
      "[[2 3]\n",
      " [5 6]]\n",
      "Range of element in 1st and 2nd row with 2nd and 3rd col: 4\n"
     ]
    }
   ],
   "source": [
    "sub_arr=arr_2D[0:2,1:3]\n",
    "print(sub_arr)\n",
    "range_val=np.max(sub_arr)-np.min(sub_arr)\n",
    "print(\"Range of element in 1st and 2nd row with 2nd and 3rd col:\",range_val)"
   ]
  },
  {
   "cell_type": "code",
   "execution_count": null,
   "id": "a637b592",
   "metadata": {},
   "outputs": [],
   "source": []
  }
 ],
 "metadata": {
  "kernelspec": {
   "display_name": "Python 3 (ipykernel)",
   "language": "python",
   "name": "python3"
  },
  "language_info": {
   "codemirror_mode": {
    "name": "ipython",
    "version": 3
   },
   "file_extension": ".py",
   "mimetype": "text/x-python",
   "name": "python",
   "nbconvert_exporter": "python",
   "pygments_lexer": "ipython3",
   "version": "3.9.13"
  }
 },
 "nbformat": 4,
 "nbformat_minor": 5
}
